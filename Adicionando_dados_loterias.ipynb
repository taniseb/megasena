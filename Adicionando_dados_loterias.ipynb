{
  "nbformat": 4,
  "nbformat_minor": 0,
  "metadata": {
    "colab": {
      "provenance": [],
      "authorship_tag": "ABX9TyP5MbIdwUaLRhGBfcPzerfS",
      "include_colab_link": true
    },
    "kernelspec": {
      "name": "python3",
      "display_name": "Python 3"
    },
    "language_info": {
      "name": "python"
    }
  },
  "cells": [
    {
      "cell_type": "markdown",
      "metadata": {
        "id": "view-in-github",
        "colab_type": "text"
      },
      "source": [
        "<a href=\"https://colab.research.google.com/github/taniseb/megasena/blob/main/Adicionando_dados_loterias.ipynb\" target=\"_parent\"><img src=\"https://colab.research.google.com/assets/colab-badge.svg\" alt=\"Open In Colab\"/></a>"
      ]
    },
    {
      "cell_type": "markdown",
      "source": [
        "Primeiro vamos abrir os dados que já existem"
      ],
      "metadata": {
        "id": "EIr2fDVp6K2S"
      }
    },
    {
      "cell_type": "code",
      "execution_count": null,
      "metadata": {
        "colab": {
          "base_uri": "https://localhost:8080/",
          "height": 39
        },
        "id": "8glP3PEY0TP-",
        "outputId": "68f16924-42c3-4459-cd64-8666cc0039ae"
      },
      "outputs": [
        {
          "output_type": "display_data",
          "data": {
            "text/plain": [
              "<IPython.core.display.HTML object>"
            ],
            "text/html": [
              "\n",
              "     <input type=\"file\" id=\"files-828d47d2-72ce-41dc-a155-c543bc7da0dd\" name=\"files[]\" multiple disabled\n",
              "        style=\"border:none\" />\n",
              "     <output id=\"result-828d47d2-72ce-41dc-a155-c543bc7da0dd\">\n",
              "      Upload widget is only available when the cell has been executed in the\n",
              "      current browser session. Please rerun this cell to enable.\n",
              "      </output>\n",
              "      <script>// Copyright 2017 Google LLC\n",
              "//\n",
              "// Licensed under the Apache License, Version 2.0 (the \"License\");\n",
              "// you may not use this file except in compliance with the License.\n",
              "// You may obtain a copy of the License at\n",
              "//\n",
              "//      http://www.apache.org/licenses/LICENSE-2.0\n",
              "//\n",
              "// Unless required by applicable law or agreed to in writing, software\n",
              "// distributed under the License is distributed on an \"AS IS\" BASIS,\n",
              "// WITHOUT WARRANTIES OR CONDITIONS OF ANY KIND, either express or implied.\n",
              "// See the License for the specific language governing permissions and\n",
              "// limitations under the License.\n",
              "\n",
              "/**\n",
              " * @fileoverview Helpers for google.colab Python module.\n",
              " */\n",
              "(function(scope) {\n",
              "function span(text, styleAttributes = {}) {\n",
              "  const element = document.createElement('span');\n",
              "  element.textContent = text;\n",
              "  for (const key of Object.keys(styleAttributes)) {\n",
              "    element.style[key] = styleAttributes[key];\n",
              "  }\n",
              "  return element;\n",
              "}\n",
              "\n",
              "// Max number of bytes which will be uploaded at a time.\n",
              "const MAX_PAYLOAD_SIZE = 100 * 1024;\n",
              "\n",
              "function _uploadFiles(inputId, outputId) {\n",
              "  const steps = uploadFilesStep(inputId, outputId);\n",
              "  const outputElement = document.getElementById(outputId);\n",
              "  // Cache steps on the outputElement to make it available for the next call\n",
              "  // to uploadFilesContinue from Python.\n",
              "  outputElement.steps = steps;\n",
              "\n",
              "  return _uploadFilesContinue(outputId);\n",
              "}\n",
              "\n",
              "// This is roughly an async generator (not supported in the browser yet),\n",
              "// where there are multiple asynchronous steps and the Python side is going\n",
              "// to poll for completion of each step.\n",
              "// This uses a Promise to block the python side on completion of each step,\n",
              "// then passes the result of the previous step as the input to the next step.\n",
              "function _uploadFilesContinue(outputId) {\n",
              "  const outputElement = document.getElementById(outputId);\n",
              "  const steps = outputElement.steps;\n",
              "\n",
              "  const next = steps.next(outputElement.lastPromiseValue);\n",
              "  return Promise.resolve(next.value.promise).then((value) => {\n",
              "    // Cache the last promise value to make it available to the next\n",
              "    // step of the generator.\n",
              "    outputElement.lastPromiseValue = value;\n",
              "    return next.value.response;\n",
              "  });\n",
              "}\n",
              "\n",
              "/**\n",
              " * Generator function which is called between each async step of the upload\n",
              " * process.\n",
              " * @param {string} inputId Element ID of the input file picker element.\n",
              " * @param {string} outputId Element ID of the output display.\n",
              " * @return {!Iterable<!Object>} Iterable of next steps.\n",
              " */\n",
              "function* uploadFilesStep(inputId, outputId) {\n",
              "  const inputElement = document.getElementById(inputId);\n",
              "  inputElement.disabled = false;\n",
              "\n",
              "  const outputElement = document.getElementById(outputId);\n",
              "  outputElement.innerHTML = '';\n",
              "\n",
              "  const pickedPromise = new Promise((resolve) => {\n",
              "    inputElement.addEventListener('change', (e) => {\n",
              "      resolve(e.target.files);\n",
              "    });\n",
              "  });\n",
              "\n",
              "  const cancel = document.createElement('button');\n",
              "  inputElement.parentElement.appendChild(cancel);\n",
              "  cancel.textContent = 'Cancel upload';\n",
              "  const cancelPromise = new Promise((resolve) => {\n",
              "    cancel.onclick = () => {\n",
              "      resolve(null);\n",
              "    };\n",
              "  });\n",
              "\n",
              "  // Wait for the user to pick the files.\n",
              "  const files = yield {\n",
              "    promise: Promise.race([pickedPromise, cancelPromise]),\n",
              "    response: {\n",
              "      action: 'starting',\n",
              "    }\n",
              "  };\n",
              "\n",
              "  cancel.remove();\n",
              "\n",
              "  // Disable the input element since further picks are not allowed.\n",
              "  inputElement.disabled = true;\n",
              "\n",
              "  if (!files) {\n",
              "    return {\n",
              "      response: {\n",
              "        action: 'complete',\n",
              "      }\n",
              "    };\n",
              "  }\n",
              "\n",
              "  for (const file of files) {\n",
              "    const li = document.createElement('li');\n",
              "    li.append(span(file.name, {fontWeight: 'bold'}));\n",
              "    li.append(span(\n",
              "        `(${file.type || 'n/a'}) - ${file.size} bytes, ` +\n",
              "        `last modified: ${\n",
              "            file.lastModifiedDate ? file.lastModifiedDate.toLocaleDateString() :\n",
              "                                    'n/a'} - `));\n",
              "    const percent = span('0% done');\n",
              "    li.appendChild(percent);\n",
              "\n",
              "    outputElement.appendChild(li);\n",
              "\n",
              "    const fileDataPromise = new Promise((resolve) => {\n",
              "      const reader = new FileReader();\n",
              "      reader.onload = (e) => {\n",
              "        resolve(e.target.result);\n",
              "      };\n",
              "      reader.readAsArrayBuffer(file);\n",
              "    });\n",
              "    // Wait for the data to be ready.\n",
              "    let fileData = yield {\n",
              "      promise: fileDataPromise,\n",
              "      response: {\n",
              "        action: 'continue',\n",
              "      }\n",
              "    };\n",
              "\n",
              "    // Use a chunked sending to avoid message size limits. See b/62115660.\n",
              "    let position = 0;\n",
              "    do {\n",
              "      const length = Math.min(fileData.byteLength - position, MAX_PAYLOAD_SIZE);\n",
              "      const chunk = new Uint8Array(fileData, position, length);\n",
              "      position += length;\n",
              "\n",
              "      const base64 = btoa(String.fromCharCode.apply(null, chunk));\n",
              "      yield {\n",
              "        response: {\n",
              "          action: 'append',\n",
              "          file: file.name,\n",
              "          data: base64,\n",
              "        },\n",
              "      };\n",
              "\n",
              "      let percentDone = fileData.byteLength === 0 ?\n",
              "          100 :\n",
              "          Math.round((position / fileData.byteLength) * 100);\n",
              "      percent.textContent = `${percentDone}% done`;\n",
              "\n",
              "    } while (position < fileData.byteLength);\n",
              "  }\n",
              "\n",
              "  // All done.\n",
              "  yield {\n",
              "    response: {\n",
              "      action: 'complete',\n",
              "    }\n",
              "  };\n",
              "}\n",
              "\n",
              "scope.google = scope.google || {};\n",
              "scope.google.colab = scope.google.colab || {};\n",
              "scope.google.colab._files = {\n",
              "  _uploadFiles,\n",
              "  _uploadFilesContinue,\n",
              "};\n",
              "})(self);\n",
              "</script> "
            ]
          },
          "metadata": {}
        }
      ],
      "source": [
        "from urllib.request import urlopen\n",
        "import json\n",
        "import ssl\n",
        "import time\n",
        "import urllib.error\n",
        "ssl._create_default_https_context = ssl._create_unverified_context\n",
        "import pandas as pd\n",
        "from google.colab import files\n",
        "uploaded = files.upload()"
      ]
    },
    {
      "cell_type": "code",
      "source": [
        "df = pd.read_csv('mega_sena-4.csv', index_col=0)"
      ],
      "metadata": {
        "id": "8zQ6ri3l5pA2"
      },
      "execution_count": 50,
      "outputs": []
    },
    {
      "cell_type": "markdown",
      "source": [
        "Repetimos as funções criadas anteriormente."
      ],
      "metadata": {
        "id": "9alVR4t86lmX"
      }
    },
    {
      "cell_type": "code",
      "source": [
        "def acumulado(x):\n",
        "  if x == True:\n",
        "    return 'SIM'\n",
        "  else:\n",
        "    return 'NÃO'\n",
        "def muni_ganhador(x):\n",
        "  if data_json['listaMunicipioUFGanhadores']==[]:\n",
        "    return \"\"\n",
        "  else:\n",
        "    return data_json['listaMunicipioUFGanhadores'][0]['municipio']\n",
        "  \n",
        "def uf_ganhador(x):\n",
        "  if data_json['listaMunicipioUFGanhadores']==[]:\n",
        "    return \"\"\n",
        "  else:\n",
        "    return data_json['listaMunicipioUFGanhadores'][0]['uf']"
      ],
      "metadata": {
        "id": "cGCGKKim6D20"
      },
      "execution_count": null,
      "outputs": []
    },
    {
      "cell_type": "markdown",
      "source": [
        "Criamos a base a ser adicionada.\n"
      ],
      "metadata": {
        "id": "p7PpHR6n6q05"
      }
    },
    {
      "cell_type": "code",
      "source": [
        "base = []\n",
        "dados = {}\n",
        "def montar_a_base():\n",
        "    dados = {\n",
        "    'Concurso' : data_json['numero'],\n",
        "    'Data Sorteio' : data_json['dataApuracao'],\n",
        "    'Arrecadacao Total': data_json['valorArrecadado'],\n",
        "    'Dezena_1': data_json['dezenasSorteadasOrdemSorteio'][0],\n",
        "    'Dezena_2': data_json['dezenasSorteadasOrdemSorteio'][1],\n",
        "    'Dezena_3': data_json['dezenasSorteadasOrdemSorteio'][2],\n",
        "    'Dezena_4': data_json['dezenasSorteadasOrdemSorteio'][3],\n",
        "    'Dezena_5': data_json['dezenasSorteadasOrdemSorteio'][4],\n",
        "    'Dezena_6': data_json['dezenasSorteadasOrdemSorteio'][5],\n",
        "    'Ganhadores Sena': data_json['listaRateioPremio'][0]['numeroDeGanhadores'],\n",
        "    'Rateio Sena': data_json['listaRateioPremio'][0]['valorPremio'],\n",
        "    'Cidade': muni_ganhador(data_json['listaRateioPremio'][0]['numeroDeGanhadores']),\n",
        "    'UF': uf_ganhador(data_json['listaRateioPremio'][0]['numeroDeGanhadores']),\n",
        "    'Ganhadores Quina': data_json['listaRateioPremio'][1]['numeroDeGanhadores'],\n",
        "    'Rateio Quina': data_json['listaRateioPremio'][1]['valorPremio'],\n",
        "    'Ganhadores Quadra': data_json['listaRateioPremio'][2]['numeroDeGanhadores'],\n",
        "    'Rateio Quadra': data_json['listaRateioPremio'][2]['valorPremio'],\n",
        "    'Acumulado': acumulado(data_json['acumulado']),\n",
        "    'Valor_Acumulado': data_json['valorAcumuladoProximoConcurso'],\n",
        "    'Estimativa de Prêmio': data_json['valorEstimadoProximoConcurso'],\n",
        "    'Acumulado Mega da Virada': data_json['valorAcumuladoConcursoEspecial'],\n",
        "    'Local do Sorteio': data_json['localSorteio'],\n",
        "    'Cidade UF Sorteio': data_json['nomeMunicipioUFSorteio']\n",
        "    }\n",
        "    base.append(dados)\n",
        "    dados = {}\n",
        "    return(base)\n",
        "\n"
      ],
      "metadata": {
        "id": "nZUmv37n6rYN"
      },
      "execution_count": null,
      "outputs": []
    },
    {
      "cell_type": "markdown",
      "source": [
        "Criamos uma variável que recebe o valor do último concurso"
      ],
      "metadata": {
        "id": "Qk-GC2vF65xS"
      }
    },
    {
      "cell_type": "code",
      "source": [
        "ultimo = df['Concurso'].iloc[-1]"
      ],
      "metadata": {
        "id": "0qdahJY_69g_"
      },
      "execution_count": null,
      "outputs": []
    },
    {
      "cell_type": "code",
      "source": [
        "E conferimos o último concurso no site da caixa, no caso é o 2550."
      ],
      "metadata": {
        "id": "MEQcdvjb7kex"
      },
      "execution_count": null,
      "outputs": []
    },
    {
      "cell_type": "code",
      "source": [
        "x = True\n",
        "i = ultimo\n",
        "while x == True:\n",
        "  url = f\"https://servicebus2.caixa.gov.br/portaldeloterias/api/megasena/{i+1}\"\n",
        "  try:\n",
        "    print(i)\n",
        "    response = urlopen(url)\n",
        "    data_json = json.loads(response.read())\n",
        "    montar_a_base()\n",
        "    i+=1\n",
        "    if i > 2549:\n",
        "      x = False\n",
        "  except urllib.error.HTTPError as exc:\n",
        "    print('Error code: ', exc)\n",
        "    time.sleep(10) # wait 10 seconds and then make http request again\n",
        "    continue\n",
        "  "
      ],
      "metadata": {
        "colab": {
          "base_uri": "https://localhost:8080/"
        },
        "id": "LqVfPG13672Y",
        "outputId": "b7330297-ba99-4f97-c332-ce14dfdf80b5"
      },
      "execution_count": null,
      "outputs": [
        {
          "output_type": "stream",
          "name": "stdout",
          "text": [
            "2549\n"
          ]
        }
      ]
    },
    {
      "cell_type": "code",
      "source": [
        "base"
      ],
      "metadata": {
        "colab": {
          "base_uri": "https://localhost:8080/"
        },
        "id": "sRgK23777CfH",
        "outputId": "37f86979-5fe8-4f59-a1fb-ba67547f00cb"
      },
      "execution_count": null,
      "outputs": [
        {
          "output_type": "execute_result",
          "data": {
            "text/plain": [
              "[{'Concurso': 2550,\n",
              "  'Data Sorteio': '31/12/2022',\n",
              "  'Arrecadacao Total': 1958449342.5,\n",
              "  'Dezena_1': '59',\n",
              "  'Dezena_2': '34',\n",
              "  'Dezena_3': '04',\n",
              "  'Dezena_4': '58',\n",
              "  'Dezena_5': '10',\n",
              "  'Dezena_6': '05',\n",
              "  'Ganhadores Sena': 5,\n",
              "  'Rateio Sena': 108393993.26,\n",
              "  'Cidade': 'CANAL ELETRONICO',\n",
              "  'UF': '--',\n",
              "  'Ganhadores Quina': 2485,\n",
              "  'Rateio Quina': 45438.78,\n",
              "  'Ganhadores Quadra': 183921,\n",
              "  'Rateio Quadra': 877.04,\n",
              "  'Acumulado': 'NÃO',\n",
              "  'Valor_Acumulado': 0.0,\n",
              "  'Estimativa de Prêmio': 3000000.0,\n",
              "  'Acumulado Mega da Virada': 0.0,\n",
              "  'Local do Sorteio': 'ESTÚDIO REDE GLOBO',\n",
              "  'Cidade UF Sorteio': 'SÃO PAULO,  SP'}]"
            ]
          },
          "metadata": {},
          "execution_count": 38
        }
      ]
    },
    {
      "cell_type": "code",
      "source": [
        "df_atualizada = df.append(base)"
      ],
      "metadata": {
        "id": "Hs2iih4U7DK6"
      },
      "execution_count": 51,
      "outputs": []
    },
    {
      "cell_type": "markdown",
      "source": [
        "e salvamos novamente os resultados"
      ],
      "metadata": {
        "id": "8Aoa6G7F8_Fu"
      }
    },
    {
      "cell_type": "code",
      "source": [
        "df = pd.DataFrame(df_atualizada)"
      ],
      "metadata": {
        "id": "qLXOyLrg8jwr"
      },
      "execution_count": 46,
      "outputs": []
    },
    {
      "cell_type": "code",
      "source": [
        "df_atualizada.to_csv(\"mega_sena.csv\", encoding= 'utf_8')"
      ],
      "metadata": {
        "id": "ssKF5z88850J"
      },
      "execution_count": 53,
      "outputs": []
    },
    {
      "cell_type": "code",
      "source": [],
      "metadata": {
        "id": "3C--zSYY9tYD"
      },
      "execution_count": null,
      "outputs": []
    }
  ]
}